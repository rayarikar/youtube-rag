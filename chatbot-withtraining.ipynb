{
 "cells": [
  {
   "cell_type": "markdown",
   "metadata": {},
   "source": [
    "# Q&A chatbot with pretrained data as context"
   ]
  },
  {
   "cell_type": "markdown",
   "metadata": {},
   "source": [
    "## Prompt Enginering\n",
    "\n",
    "Creating vectors for the context that we'd like to store in the vector store. The vector store will be responsible for assigning weights and clustering similar documents."
   ]
  },
  {
   "cell_type": "code",
   "execution_count": 7,
   "metadata": {},
   "outputs": [
    {
     "data": {
      "text/plain": [
       "[HumanMessage(content='\"\\nPlease answer the question in a conversation style on the context below. \\nIf you don\\'t know the answer to the question, reply with \"I don\\'t know.\"\\n\\nContext: \\nOpenAI was created with the goal of advancing artificial intelligence in a way that benefits all of humanity. \\nThe organization was founded in December 2015 with the mission of ensuring that artificial intelligence is developed \\nand used in a safe and beneficial way, and to promote and develop friendly AI for the betterment of society. \\nThe founders of OpenAI believed that by making AI research and technology widely accessible and \\npromoting collaboration in the field, they could help mitigate the potential risks \\nassociated with the rapid advancement of artificial intelligence.\\n\\nQuestion: When was OpenAI created?\\n', additional_kwargs={}, response_metadata={})]"
      ]
     },
     "execution_count": 7,
     "metadata": {},
     "output_type": "execute_result"
    }
   ],
   "source": [
    "from langchain.prompts import ChatPromptTemplate \n",
    "\n",
    "template = \"\"\"\"\n",
    "Please answer the question in a conversation style on the context below. \n",
    "If you don't know the answer to the question, reply with \"I don't know.\"\n",
    "\n",
    "Context: {context}\n",
    "Question: {question}\n",
    "\"\"\"\n",
    "\n",
    "prompt = ChatPromptTemplate.from_template(template)\n",
    "\n",
    "context = \"\"\"\n",
    "OpenAI was created with the goal of advancing artificial intelligence in a way that benefits all of humanity. \n",
    "The organization was founded in December 2015 with the mission of ensuring that artificial intelligence is developed \n",
    "and used in a safe and beneficial way, and to promote and develop friendly AI for the betterment of society. \n",
    "The founders of OpenAI believed that by making AI research and technology widely accessible and \n",
    "promoting collaboration in the field, they could help mitigate the potential risks \n",
    "associated with the rapid advancement of artificial intelligence.\n",
    "\"\"\"\n",
    "\n",
    "question = \"When was OpenAI created?\"\n",
    "\n",
    "prompt.format_messages(context= context, question = question)"
   ]
  },
  {
   "cell_type": "markdown",
   "metadata": {},
   "source": [
    "# Create a chain to query against LLM\n",
    "\n",
    "We will pass the created prompt as part of the chain to LLM model. The model output is then chained with the parser\n",
    "to provide an answer."
   ]
  },
  {
   "cell_type": "code",
   "execution_count": 11,
   "metadata": {},
   "outputs": [
    {
     "name": "stdout",
     "output_type": "stream",
     "text": [
      "Secured the OpenAI key of length = 164\n",
      "Here is a sample of the chat:\n",
      "\n",
      " Person A: Hey, do you know when OpenAI was created?\n",
      "Person B: Oh, yeah! OpenAI was founded in December 2015 with the goal of advancing artificial intelligence for the benefit of humanity.\n",
      "Person A: That's really interesting. I didn't know it was founded relatively recently. Thanks for letting me know!\n",
      "Person B: No problem, happy to help!\n"
     ]
    }
   ],
   "source": [
    "import os\n",
    "from dotenv import load_dotenv\n",
    "from langchain_openai.chat_models import ChatOpenAI\n",
    "from langchain_core.output_parsers import StrOutputParser\n",
    "\n",
    "load_dotenv()\n",
    "\n",
    "OPENAI_API_KEY = os.getenv(\"OPENAI_API_KEY\")\n",
    "\n",
    "print(\"Secured the OpenAI key of length =\", len(OPENAI_API_KEY))\n",
    "\n",
    "model = ChatOpenAI(openai_api_key = OPENAI_API_KEY, model = \"gpt-3.5-turbo\")\n",
    "parser = StrOutputParser()\n",
    "\n",
    "chain = prompt| model | parser\n",
    "response = chain.invoke({\"context\": context, \"question\": question})\n",
    "print(\"Here is a sample of the chat:\\n\\n\", response)"
   ]
  }
 ],
 "metadata": {
  "kernelspec": {
   "display_name": ".venv",
   "language": "python",
   "name": "python3"
  },
  "language_info": {
   "codemirror_mode": {
    "name": "ipython",
    "version": 3
   },
   "file_extension": ".py",
   "mimetype": "text/x-python",
   "name": "python",
   "nbconvert_exporter": "python",
   "pygments_lexer": "ipython3",
   "version": "3.13.0"
  }
 },
 "nbformat": 4,
 "nbformat_minor": 2
}
