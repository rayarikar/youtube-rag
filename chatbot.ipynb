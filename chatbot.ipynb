{
 "cells": [
  {
   "cell_type": "markdown",
   "metadata": {},
   "source": [
    "# Q&A Chatbot with parser chain"
   ]
  },
  {
   "cell_type": "markdown",
   "metadata": {},
   "source": [
    "## Load Secrets\n",
    "Given a query, the OpenAI LLM outputs the answer. One way communication.\n",
    "\n",
    "Required: `pip install python-dotenv`"
   ]
  },
  {
   "cell_type": "code",
   "execution_count": 31,
   "metadata": {},
   "outputs": [
    {
     "name": "stdout",
     "output_type": "stream",
     "text": [
      "Secured the OpenAI key of length = 164\n"
     ]
    }
   ],
   "source": [
    "import os\n",
    "from dotenv import load_dotenv\n",
    "\n",
    "load_dotenv()\n",
    "\n",
    "OPENAI_API_KEY = os.getenv(\"OPENAI_API_KEY\")\n",
    "\n",
    "print(\"Secured the OpenAI key of length =\", len(OPENAI_API_KEY))"
   ]
  },
  {
   "cell_type": "markdown",
   "metadata": {},
   "source": [
    "## Model Setup\n",
    "Next up is setting up the LLM model to leverage from OpenAI. We will leverage Langchain for this. \n",
    "\n",
    "Required: `pip install langchain-openai`"
   ]
  },
  {
   "cell_type": "code",
   "execution_count": 32,
   "metadata": {},
   "outputs": [],
   "source": [
    "from langchain_openai.chat_models import ChatOpenAI\n",
    "\n",
    "model = ChatOpenAI(openai_api_key = OPENAI_API_KEY, model = \"gpt-3.5-turbo\")"
   ]
  },
  {
   "cell_type": "markdown",
   "metadata": {},
   "source": [
    "## Model invocation with vanilla response\n",
    "The invovation will result in a vanalla response without any string parsing. We will need to pass it through a parser to make it 'human friendly'\n",
    "\n",
    "Expected output:\n",
    "\n",
    "`AIMessage(content='OpenAI was created in order to advance digital intelligence in a way that benefits humanity as a whole. The founders of OpenAI believed that by developing and promoting artificial intelligence technologies in a responsible and transparent manner, they could help ensure that AI is used for the betterment of society and not for harmful purposes. They also wanted to foster collaboration and research in the field of AI, with a focus on openness and sharing of knowledge.', additional_kwargs={'refusal': None}, response_metadata={'token_usage': {'completion_tokens': 85, 'prompt_tokens': 13, 'total_tokens': 98, 'completion_tokens_details': {'accepted_prediction_tokens': 0, 'audio_tokens': 0, 'reasoning_tokens': 0, 'rejected_prediction_tokens': 0}, 'prompt_tokens_details': {'audio_tokens': 0, 'cached_tokens': 0}}, 'model_name': 'gpt-3.5-turbo-0125', 'system_fingerprint': None, 'finish_reason': 'stop', 'logprobs': None}, id='run-c6d4e93e-4e7e-4ff7-96c8-75b1c5718731-0', usage_metadata={'input_tokens': 13, 'output_tokens': 85, 'total_tokens': 98, 'input_token_details': {'audio': 0, 'cache_read': 0}, 'output_token_details': {'audio': 0, 'reasoning': 0}})`"
   ]
  },
  {
   "cell_type": "code",
   "execution_count": null,
   "metadata": {},
   "outputs": [
    {
     "data": {
      "text/plain": [
       "AIMessage(content='OpenAI was founded by Elon Musk, Sam Altman, Greg Brockman, Ilya Sutskever, John Schulman, and Wojciech Zaremba in December 2015.', additional_kwargs={'refusal': None}, response_metadata={'token_usage': {'completion_tokens': 41, 'prompt_tokens': 12, 'total_tokens': 53, 'completion_tokens_details': {'accepted_prediction_tokens': 0, 'audio_tokens': 0, 'reasoning_tokens': 0, 'rejected_prediction_tokens': 0}, 'prompt_tokens_details': {'audio_tokens': 0, 'cached_tokens': 0}}, 'model_name': 'gpt-3.5-turbo-0125', 'system_fingerprint': None, 'finish_reason': 'stop', 'logprobs': None}, id='run-3fc9519f-262f-4cdd-b0f5-77856523d65f-0', usage_metadata={'input_tokens': 12, 'output_tokens': 41, 'total_tokens': 53, 'input_token_details': {'audio': 0, 'cache_read': 0}, 'output_token_details': {'audio': 0, 'reasoning': 0}})"
      ]
     },
     "execution_count": 33,
     "metadata": {},
     "output_type": "execute_result"
    }
   ],
   "source": [
    "model.invoke(\"Why was OpenAI created?\")"
   ]
  },
  {
   "cell_type": "markdown",
   "metadata": {},
   "source": [
    "## Parsing chain buildout\n",
    "The previous model returned an AIMessage. We will build a simple chain to make it human readable.\n",
    "\n",
    "Expected output:\n",
    "\n",
    "`OpenAI was created with the goal of advancing artificial intelligence in a way that benefits all of humanity. The organization was founded in December 2015 with the mission of ensuring that artificial intelligence is developed and used in a safe and beneficial way, and to promote and develop friendly AI for the betterment of society. The founders of OpenAI believed that by making AI research and technology widely accessible and promoting collaboration in the field, they could help mitigate the potential risks associated with the rapid advancement of artificial intelligence.'`"
   ]
  },
  {
   "cell_type": "code",
   "execution_count": 34,
   "metadata": {},
   "outputs": [
    {
     "data": {
      "text/plain": [
       "'OpenAI was created with the goal of advancing artificial intelligence in a way that benefits all of humanity. The organization was founded in December 2015 with the mission of ensuring that artificial intelligence is developed and used in a safe and beneficial way, and to promote and develop friendly AI for the betterment of society. The founders of OpenAI believed that by making AI research and technology widely accessible and promoting collaboration in the field, they could help mitigate the potential risks associated with the rapid advancement of artificial intelligence.'"
      ]
     },
     "execution_count": 34,
     "metadata": {},
     "output_type": "execute_result"
    }
   ],
   "source": [
    "from langchain_core.output_parsers import StrOutputParser\n",
    "\n",
    "parser = StrOutputParser()\n",
    "\n",
    "chain = model | parser\n",
    "chain.invoke(\"Why was OpenAI created?\")"
   ]
  }
 ],
 "metadata": {
  "kernelspec": {
   "display_name": ".venv",
   "language": "python",
   "name": "python3"
  },
  "language_info": {
   "codemirror_mode": {
    "name": "ipython",
    "version": 3
   },
   "file_extension": ".py",
   "mimetype": "text/x-python",
   "name": "python",
   "nbconvert_exporter": "python",
   "pygments_lexer": "ipython3",
   "version": "3.13.0"
  }
 },
 "nbformat": 4,
 "nbformat_minor": 2
}
